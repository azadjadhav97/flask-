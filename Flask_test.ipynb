{
  "nbformat": 4,
  "nbformat_minor": 0,
  "metadata": {
    "colab": {
      "provenance": []
    },
    "kernelspec": {
      "name": "python3",
      "display_name": "Python 3"
    },
    "language_info": {
      "name": "python"
    }
  },
  "cells": [
    {
      "cell_type": "code",
      "execution_count": null,
      "metadata": {
        "id": "iN5ZSmscYuWr"
      },
      "outputs": [],
      "source": []
    },
    {
      "cell_type": "markdown",
      "source": [
        "1. What is a RESTful API?\n",
        "A RESTful API (Representational State Transfer) is an architectural style used for designing networked applications. It relies on stateless, client-server communication using HTTP requests. The key principles of REST are:\n",
        "\n",
        "Stateless: Every request from the client to the server must contain all the information needed to understand and process the request. The server does not store any session state.\n",
        "\n",
        "Resources: REST operates on resources, typically represented by URLs (e.g., /users, /posts). Each resource is identified by a unique URL.\n",
        "\n",
        "Methods: It uses HTTP methods (GET, POST, PUT, DELETE, etc.) to perform CRUD operations (Create, Read, Update, Delete) on resources.\n",
        "\n",
        "Representation: Resources can have different representations, typically in JSON or XML format, and when a client interacts with the resource, it gets the resource's representation."
      ],
      "metadata": {
        "id": "4K7JWrmWYy7F"
      }
    },
    {
      "cell_type": "code",
      "source": [],
      "metadata": {
        "id": "It-CCY1lY3vI"
      },
      "execution_count": null,
      "outputs": []
    },
    {
      "cell_type": "markdown",
      "source": [
        "2. Explain the concept of API specification\n",
        "\n",
        "An API specification defines how an API behaves, how clients can interact with it, and what the expected input and output are. It documents the available endpoints, HTTP methods, expected request and response formats, query parameters, authentication, error codes, and other crucial details. Specifications often follow standards like OpenAPI or Swagger, which allow both humans and machines to understand and work with the API easily.\n",
        "\n"
      ],
      "metadata": {
        "id": "HLfu6ggtZAa2"
      }
    },
    {
      "cell_type": "markdown",
      "source": [
        "**3. What is Flask, and why is it popular for building APIs?**\n",
        "\n",
        "Flask is a lightweight, micro web framework for Python that is used to build web applications and APIs. It’s popular for the following reasons:\n",
        "\n",
        "Simplicity and Flexibility: Flask is easy to learn and use, providing a simple foundation that you can extend as needed.\n",
        "\n",
        "Minimalist: It doesn’t force you to use complex tools or patterns, giving developers the flexibility to structure their application how they see fit.\n",
        "\n",
        "Extensive Documentation: Flask has great documentation and an active community that supports developers.\n",
        "\n",
        "Widespread Adoption: Because of its simplicity and flexibility, Flask is a common choice for building APIs."
      ],
      "metadata": {
        "id": "IebMGXuIZAnn"
      }
    },
    {
      "cell_type": "markdown",
      "source": [
        "**4. What is routing in Flask?**\n",
        "\n",
        "Routing in Flask refers to the mechanism of mapping a URL endpoint to a specific function in your code. This allows Flask to determine which function to call when an HTTP request is made to a particular URL. For example, with @app.route('/home'), you define the /home route and the function that should execute when this endpoint is accessed."
      ],
      "metadata": {
        "id": "ba5QSWxvZAyj"
      }
    },
    {
      "cell_type": "markdown",
      "source": [
        "**5. How do you create a simple Flask application?**\n",
        "\n",
        "A simple Flask application can be created with just a few lines of code. Here's a basic example:"
      ],
      "metadata": {
        "id": "349D9o0dZA9N"
      }
    },
    {
      "cell_type": "code",
      "source": [
        "from flask import Flask\n",
        "\n",
        "app = Flask(__name__)\n",
        "\n",
        "@app.route('/')\n",
        "def hello():\n",
        "    return \"Hello, World!\"\n",
        "\n",
        "if __name__ == \"__main__\":\n",
        "    app.run()\n"
      ],
      "metadata": {
        "colab": {
          "base_uri": "https://localhost:8080/"
        },
        "id": "MnM-7aDEZcMH",
        "outputId": "02658d62-1a5f-42b0-a529-39408e94ec0d"
      },
      "execution_count": null,
      "outputs": [
        {
          "metadata": {
            "tags": null
          },
          "name": "stdout",
          "output_type": "stream",
          "text": [
            " * Serving Flask app '__main__'\n",
            " * Debug mode: off\n"
          ]
        },
        {
          "metadata": {
            "tags": null
          },
          "name": "stderr",
          "output_type": "stream",
          "text": [
            "INFO:werkzeug:\u001b[31m\u001b[1mWARNING: This is a development server. Do not use it in a production deployment. Use a production WSGI server instead.\u001b[0m\n",
            " * Running on http://127.0.0.1:5000\n",
            "INFO:werkzeug:\u001b[33mPress CTRL+C to quit\u001b[0m\n"
          ]
        }
      ]
    },
    {
      "cell_type": "markdown",
      "source": [
        "**6. What are HTTP methods used in RESTful APIs?**\n",
        "\n",
        "In RESTful APIs, several HTTP methods are used to interact with resources:\n",
        "\n",
        "GET: Retrieve data from the server (e.g., get user details).\n",
        "\n",
        "POST: Create a new resource (e.g., create a new user).\n",
        "\n",
        "PUT: Update an existing resource (e.g., update user information).\n",
        "\n",
        "DELETE: Remove a resource (e.g., delete a user).\n",
        "\n",
        "PATCH: Apply partial modifications to a resource.\n",
        "\n",
        "OPTIONS: Describe the communication options for the target resource."
      ],
      "metadata": {
        "id": "6TZuNhgJZBG5"
      }
    },
    {
      "cell_type": "markdown",
      "source": [
        "**7. What is the purpose of the @app.route() decorator in Flask?**\n",
        "\n",
        "The @app.route() decorator in Flask is used to define the route for a specific URL and associate it with a function. When an HTTP request is made to the specified URL, the corresponding function is called. For example:"
      ],
      "metadata": {
        "id": "PaksiyznZBPq"
      }
    },
    {
      "cell_type": "code",
      "source": [
        "@app.route('/home')\n",
        "def home():\n",
        "    return \"Welcome to the home page!\"\n"
      ],
      "metadata": {
        "id": "am49QdEfZ3u4"
      },
      "execution_count": null,
      "outputs": []
    },
    {
      "cell_type": "markdown",
      "source": [
        "**8. What is the difference between GET and POST HTTP methods?**\n",
        "\n",
        "GET: The GET method is used to retrieve data from the server. It is a safe and idempotent method (it doesn't change any data on the server). It appends data to the URL as query parameters.\n",
        "\n",
        "POST: The POST method is used to send data to the server, typically to create a new resource. POST is not idempotent, meaning repeated requests could result in different outcomes (e.g., creating multiple resources)."
      ],
      "metadata": {
        "id": "xB-abehaY8-R"
      }
    },
    {
      "cell_type": "markdown",
      "source": [
        "**9. How do you handle errors in Flask APIs?**\n",
        "\n",
        "You can handle errors in Flask APIs using @app.errorhandler to specify custom error messages for specific HTTP status codes, or you can use try-except blocks within your views to handle specific exceptions.\n",
        "\n",
        "Example:"
      ],
      "metadata": {
        "id": "_seqPVQ8aDXi"
      }
    },
    {
      "cell_type": "code",
      "source": [
        "@app.errorhandler(404)\n",
        "def page_not_found(error):\n",
        "    return \"Page not found\", 404\n"
      ],
      "metadata": {
        "id": "93izKYuNZ-hx"
      },
      "execution_count": null,
      "outputs": []
    },
    {
      "cell_type": "markdown",
      "source": [
        "**10. How do you connect Flask to a SQL database?**\n",
        "To connect Flask to a SQL database, you can use a library like SQLAlchemy. First, install it via pip install flask-sqlalchemy, and then configure your database URI in the Flask app settings.\n",
        "\n",
        "Example:"
      ],
      "metadata": {
        "id": "RlYopB7YaN2z"
      }
    },
    {
      "cell_type": "code",
      "source": [
        "from flask import Flask\n",
        "from flask_sqlalchemy import SQLAlchemy\n",
        "\n",
        "app = Flask(__name__)\n",
        "app.config['SQLALCHEMY_DATABASE_URI'] = 'sqlite:///example.db'\n",
        "db = SQLAlchemy(app)\n",
        "\n",
        "class User(db.Model):\n",
        "    id = db.Column(db.Integer, primary_key=True)\n",
        "    username = db.Column(db.String(80), unique=True, nullable=False)\n",
        "\n",
        "@app.route('/')\n",
        "def home():\n",
        "    return \"Welcome to the API\"\n"
      ],
      "metadata": {
        "id": "7VJANd9yaJJr"
      },
      "execution_count": null,
      "outputs": []
    },
    {
      "cell_type": "markdown",
      "source": [
        "**11. What is the role of Flask-SQLAlchemy?**\n",
        "\n",
        "Flask-SQLAlchemy is an extension that simplifies the integration of SQLAlchemy into Flask applications. SQLAlchemy is a powerful Object-Relational Mapping (ORM) tool that allows you to work with relational databases in an object-oriented way, making it easier to manage and query databases."
      ],
      "metadata": {
        "id": "HJTvFpr7adqb"
      }
    },
    {
      "cell_type": "markdown",
      "source": [
        "**12. What are Flask blueprints, and how are they useful?**\n",
        "\n",
        "Flask blueprints allow you to organize your application into smaller, modular components. Each blueprint can have its own set of routes, views, and templates. Blueprints are useful for larger applications because they help separate different parts of the application (e.g., user management, blog posts) into separate modules.\n",
        "\n",
        "Example:"
      ],
      "metadata": {
        "id": "bbU58g0EapYh"
      }
    },
    {
      "cell_type": "code",
      "source": [
        "from flask import Blueprint\n",
        "\n",
        "auth = Blueprint('auth', __name__)\n",
        "\n",
        "@auth.route('/login')\n",
        "def login():\n",
        "    return \"Login Page\"\n"
      ],
      "metadata": {
        "id": "wsqcgLYFaXMu"
      },
      "execution_count": null,
      "outputs": []
    },
    {
      "cell_type": "markdown",
      "source": [
        "**13. What is the purpose of Flask's request object?**\n",
        "\n",
        "The request object in Flask provides access to data sent with the HTTP request. This can include data such as form data, query parameters, headers, and the request body. It is used to retrieve data from incoming requests.\n",
        "\n",
        "Example:"
      ],
      "metadata": {
        "id": "exW6PNXcazfr"
      }
    },
    {
      "cell_type": "code",
      "source": [
        "from flask import request\n",
        "\n",
        "@app.route('/login', methods=['POST'])\n",
        "def login():\n",
        "    username = request.form['username']\n",
        "    return f\"Logged in as {username}\"\n"
      ],
      "metadata": {
        "id": "Q4qx5zdtanlb"
      },
      "execution_count": null,
      "outputs": []
    },
    {
      "cell_type": "markdown",
      "source": [
        "**14. How do you create a RESTful API endpoint using Flask?**\n",
        "\n",
        "You create a RESTful API endpoint in Flask by defining routes that correspond to different HTTP methods (GET, POST, PUT, DELETE). For example"
      ],
      "metadata": {
        "id": "9JUJ29VdbAe3"
      }
    },
    {
      "cell_type": "code",
      "source": [
        "@app.route('/api/users', methods=['GET'])\n",
        "def get_users():\n",
        "    return jsonify(users)\n"
      ],
      "metadata": {
        "id": "-w54Aa5gbCmu"
      },
      "execution_count": null,
      "outputs": []
    },
    {
      "cell_type": "code",
      "source": [],
      "metadata": {
        "id": "myKC8T_lbEvM"
      },
      "execution_count": null,
      "outputs": []
    },
    {
      "cell_type": "markdown",
      "source": [
        "**15. What is the purpose of Flask's jsonify() function?**\n",
        "\n",
        "The jsonify() function in Flask is used to convert Python dictionaries or lists into JSON responses. It also sets the correct Content-Type header (application/json) for the response."
      ],
      "metadata": {
        "id": "uSvVwvmUbK8X"
      }
    },
    {
      "cell_type": "code",
      "source": [
        "from flask import jsonify\n",
        "\n",
        "@app.route('/api/user')\n",
        "def get_user():\n",
        "    user = {'id': 1, 'name': 'John Doe'}\n",
        "    return jsonify(user)\n"
      ],
      "metadata": {
        "id": "UiYgUd6wbO2U"
      },
      "execution_count": null,
      "outputs": []
    },
    {
      "cell_type": "markdown",
      "source": [
        "**16. Explain Flask’s url_for() function**\n",
        "\n",
        "The url_for() function generates the URL for a specific function. This is useful when you want to refer to routes dynamically, without hardcoding the URLs.\n",
        "\n",
        "Example:"
      ],
      "metadata": {
        "id": "habMOpOzbU-N"
      }
    },
    {
      "cell_type": "code",
      "source": [
        "from flask import url_for\n",
        "\n",
        "@app.route('/')\n",
        "def home():\n",
        "    return redirect(url_for('login'))\n"
      ],
      "metadata": {
        "id": "XnmH3KZ0bYq9"
      },
      "execution_count": null,
      "outputs": []
    },
    {
      "cell_type": "markdown",
      "source": [
        "**17. How does Flask handle static files (CSS, JavaScript, etc.)?**\n",
        "Flask automatically serves static files from a folder called static located in the root directory of the application. To link to static files, use the url_for('static', filename='path_to_file') function.\n",
        "\n",
        "Example:\n",
        "\n",
        "html\n",
        "Copy\n"
      ],
      "metadata": {
        "id": "zUD-U3bkbbx5"
      }
    },
    {
      "cell_type": "code",
      "source": [
        "<link rel=\"stylesheet\" href=\"{{ url_for('static', filename='style.css') }}\">\n"
      ],
      "metadata": {
        "id": "rUNbXTtjbeSe"
      },
      "execution_count": null,
      "outputs": []
    },
    {
      "cell_type": "markdown",
      "source": [
        "**18. What is an API specification, and how does it help in building a Flask API?**\n",
        "\n",
        "An API specification is a structured document (usually in OpenAPI or Swagger format) that describes the API’s endpoints, expected inputs/outputs, HTTP methods, and response codes. It helps developers understand how to interact with the API, and it can also be used to generate documentation or client SDKs."
      ],
      "metadata": {
        "id": "UQ22AsJObixz"
      }
    },
    {
      "cell_type": "markdown",
      "source": [
        "**19. What are HTTP status codes, and why are they important in a Flask API?**\n",
        "\n",
        "HTTP status codes indicate the result of an HTTP request. They help clients understand if their request was successful, redirected, or resulted in an error. Examples:\n",
        "\n",
        "200 OK: Successful request.\n",
        "\n",
        "404 Not Found: The resource was not found.\n",
        "\n",
        "500 Internal Server Error: A server-side error occurred."
      ],
      "metadata": {
        "id": "tXGHMnQkbopl"
      }
    },
    {
      "cell_type": "markdown",
      "source": [
        "**20. How do you handle POST requests in Flask?**\n",
        "\n",
        "To handle POST requests, specify methods=['POST'] in the route decorator:"
      ],
      "metadata": {
        "id": "KiWML_I6bv6d"
      }
    },
    {
      "cell_type": "code",
      "source": [
        "@app.route('/submit', methods=['POST'])\n",
        "def submit():\n",
        "    data = request.json\n",
        "    return jsonify({'message': 'Data received', 'data': data})\n"
      ],
      "metadata": {
        "id": "OqsLZwsCbxp1"
      },
      "execution_count": null,
      "outputs": []
    },
    {
      "cell_type": "markdown",
      "source": [
        "**21. How would you secure a Flask API?**\n",
        "\n",
        "To secure a Flask API:\n",
        "\n",
        "Use authentication (e.g., JWT tokens, OAuth2) to verify user identity.\n",
        "\n",
        "Use authorization to ensure users can only access resources they have permission for.\n",
        "\n",
        "Implement rate limiting to prevent abuse.\n",
        "\n",
        "Use HTTPS to encrypt communication."
      ],
      "metadata": {
        "id": "2HKuyStcb2AL"
      }
    },
    {
      "cell_type": "markdown",
      "source": [
        "**22. What is the significance of the Flask-RESTful extension?**\n",
        "\n",
        "Flask-RESTful is an extension for Flask that simplifies the creation of REST APIs by providing abstractions for request parsing, response formatting, and error handling. It helps to build cleaner, more maintainable APIs."
      ],
      "metadata": {
        "id": "znXOOKWXb6wZ"
      }
    },
    {
      "cell_type": "markdown",
      "source": [
        "**23. What is the role of Flask’s session object?**\n",
        "\n",
        "Flask's session object is used to store data between requests (similar to cookies). It allows you to store information like user login state across different requests in a secure way, using a signed cookie by default."
      ],
      "metadata": {
        "id": "AcP4P6ITb_sk"
      }
    },
    {
      "cell_type": "code",
      "source": [
        "from flask import session\n",
        "\n",
        "@app.route('/login', methods=['POST'])\n",
        "def login():\n",
        "    session['user'] = 'John Doe'\n",
        "    return 'Logged in'\n"
      ],
      "metadata": {
        "id": "TMA1mF9lb4I6"
      },
      "execution_count": null,
      "outputs": []
    },
    {
      "cell_type": "markdown",
      "source": [
        "**Practicals**"
      ],
      "metadata": {
        "id": "bZ0-35d3ccC_"
      }
    },
    {
      "cell_type": "markdown",
      "source": [
        "**1. How do you create a basic Flask application?**\n",
        "\n",
        "To create a basic Flask application, follow these steps:\n",
        "\n",
        "Install Flask if you haven’t already: pip install flask.\n",
        "\n",
        "Create a new Python file (e.g., app.py)."
      ],
      "metadata": {
        "id": "ohCXVzfSdaFL"
      }
    },
    {
      "cell_type": "code",
      "source": [
        "from flask import Flask\n",
        "\n",
        "app = Flask(__name__)\n",
        "\n",
        "@app.route('/')\n",
        "def hello():\n",
        "    return \"Hello, World!\"\n",
        "\n",
        "if __name__ == \"__main__\":\n",
        "    app.run(debug=True)\n"
      ],
      "metadata": {
        "id": "64wsKen1ceaM"
      },
      "execution_count": null,
      "outputs": []
    },
    {
      "cell_type": "markdown",
      "source": [
        "**2. How do you serve static files like images or CSS in Flask?**\n",
        "\n",
        "In Flask, static files (like images, CSS, or JavaScript) are served from the /static folder. Flask automatically looks for static files in the static/ directory, which is created automatically in your project structure.\n",
        "\n",
        "Example:\n",
        "\n",
        "Place a CSS file (e.g., style.css) inside the static folder.\n",
        "\n",
        "Link to it in your HTML template like so:"
      ],
      "metadata": {
        "id": "FEKPmYiDdpSP"
      }
    },
    {
      "cell_type": "code",
      "source": [
        "<link rel=\"stylesheet\" href=\"{{ url_for('static', filename='style.css') }}\">\n"
      ],
      "metadata": {
        "id": "1z7AcK8qdrbz"
      },
      "execution_count": null,
      "outputs": []
    },
    {
      "cell_type": "markdown",
      "source": [
        "\n",
        "**3. How do you define different routes with different HTTP methods in Flask?**\n",
        "\n",
        "You can define different routes for different HTTP methods by specifying the methods parameter in the @app.route decorator. The most common HTTP methods are GET, POST, PUT, and DELETE.\n",
        "\n",
        "Example:"
      ],
      "metadata": {
        "id": "Dogoa6_ad8QV"
      }
    },
    {
      "cell_type": "code",
      "source": [
        "@app.route('/submit', methods=['POST'])\n",
        "def submit_data():\n",
        "    return \"Data submitted successfully.\"\n",
        "\n",
        "@app.route('/data', methods=['GET'])\n",
        "def get_data():\n",
        "    return \"Here is the data.\"\n"
      ],
      "metadata": {
        "id": "ZeEkmViGd43S"
      },
      "execution_count": null,
      "outputs": []
    },
    {
      "cell_type": "markdown",
      "source": [
        "**4. How do you render HTML templates in Flask?**\n",
        "\n",
        "To render HTML templates in Flask, use the render_template function, which renders a Jinja2 template from the templates folder.\n",
        "\n",
        "Create a folder named templates in your project directory.\n",
        "\n",
        "Inside the templates folder, create an HTML file (e.g., index.html).\n",
        "\n",
        "Example HTML template:"
      ],
      "metadata": {
        "id": "q1zgxplYeG5G"
      }
    },
    {
      "cell_type": "code",
      "source": [
        "\n"
      ],
      "metadata": {
        "id": "fVqWkllheCsw"
      },
      "execution_count": null,
      "outputs": []
    },
    {
      "cell_type": "code",
      "source": [
        "from flask import render_template\n",
        "\n",
        "@app.route('/')\n",
        "def home():\n",
        "    return render_template('index.html', message=\"Hello, Flask!\")\n"
      ],
      "metadata": {
        "id": "X_s_a7W4eSye"
      },
      "execution_count": null,
      "outputs": []
    },
    {
      "cell_type": "markdown",
      "source": [
        "**5. How can you generate URLs for routes in Flask using url_for?**\n",
        "\n",
        "In Flask, url_for is used to generate URLs dynamically for your routes. This is especially useful to avoid hardcoding URLs.\n",
        "\n",
        "Example:"
      ],
      "metadata": {
        "id": "hJBsdOmuea5J"
      }
    },
    {
      "cell_type": "code",
      "source": [
        "from flask import url_for\n",
        "\n",
        "@app.route('/')\n",
        "def home():\n",
        "    return f\"Go to the <a href='{url_for('about')}'>About page</a>.\"\n",
        "\n",
        "@app.route('/about')\n",
        "def about():\n",
        "    return \"This is the About page.\"\n"
      ],
      "metadata": {
        "id": "gEbaxEoeec0-"
      },
      "execution_count": null,
      "outputs": []
    },
    {
      "cell_type": "code",
      "source": [
        "# 6. How do you handle forms in Flask?\n",
        "# You can handle forms using Flask’s request object. Flask provides the request.form dictionary to access form data sent via POST."
      ],
      "metadata": {
        "id": "yU6Hg8f8eg8I"
      },
      "execution_count": null,
      "outputs": []
    },
    {
      "cell_type": "code",
      "source": [
        "from flask import request, render_template\n",
        "\n",
        "@app.route('/submit', methods=['POST', 'GET'])\n",
        "def submit():\n",
        "    if request.method == 'POST':\n",
        "        username = request.form['username']\n",
        "        return f\"Hello, {username}!\"\n",
        "    return render_template('submit_form.html')\n"
      ],
      "metadata": {
        "id": "pUCO0FDSejpj"
      },
      "execution_count": null,
      "outputs": []
    },
    {
      "cell_type": "code",
      "source": [
        "<form method=\"POST\">\n",
        "    <input type=\"text\" name=\"username\" placeholder=\"Enter your name\">\n",
        "    <button type=\"submit\">Submit</button>\n",
        "</form>\n"
      ],
      "metadata": {
        "id": "Z9wLxSZneqbt"
      },
      "execution_count": null,
      "outputs": []
    },
    {
      "cell_type": "markdown",
      "source": [
        "7. How can you validate form data in Flask?\n",
        "\n",
        "You can manually validate form data using Python's built-in features or by using a form validation library like WTForms.\n",
        "\n",
        "For manual validation:"
      ],
      "metadata": {
        "id": "mjv-x0nleuuw"
      }
    },
    {
      "cell_type": "code",
      "source": [
        "from flask import request, render_template, flash\n",
        "\n",
        "@app.route('/submit', methods=['POST'])\n",
        "def submit():\n",
        "    username = request.form['username']\n",
        "    if not username:\n",
        "        flash('Username is required', 'error')\n",
        "        return render_template('submit_form.html')\n",
        "    return f\"Hello, {username}!\"\n"
      ],
      "metadata": {
        "id": "USta3gxtevxa"
      },
      "execution_count": null,
      "outputs": []
    },
    {
      "cell_type": "markdown",
      "source": [
        "8. How do you manage sessions in Flask?\n",
        "\n",
        "Flask provides a session object to manage user sessions. By default, Flask stores session data in a secure cookie, and it’s signed to prevent tampering.\n",
        "\n",
        "Example:"
      ],
      "metadata": {
        "id": "RxvJSADLezrl"
      }
    },
    {
      "cell_type": "code",
      "source": [
        "from flask import session, redirect, url_for\n",
        "\n",
        "@app.route('/login', methods=['POST'])\n",
        "def login():\n",
        "    session['user'] = 'John Doe'\n",
        "    return redirect(url_for('dashboard'))\n",
        "\n",
        "@app.route('/dashboard')\n",
        "def dashboard():\n",
        "    return f\"Welcome, {session['user']}!\"\n"
      ],
      "metadata": {
        "id": "AMQcdrCYe0l9"
      },
      "execution_count": null,
      "outputs": []
    },
    {
      "cell_type": "markdown",
      "source": [
        "9. How do you redirect to a different route in Flask?\n",
        "\n",
        "To redirect users to another route, use the redirect function along with url_for.\n",
        "\n",
        "Example:"
      ],
      "metadata": {
        "id": "UUwf9w07e5D9"
      }
    },
    {
      "cell_type": "code",
      "source": [
        "from flask import redirect, url_for\n",
        "\n",
        "@app.route('/home')\n",
        "def home():\n",
        "    return redirect(url_for('dashboard'))\n",
        "\n",
        "@app.route('/dashboard')\n",
        "def dashboard():\n",
        "    return \"Welcome to the Dashboard!\"\n"
      ],
      "metadata": {
        "id": "0X577PMxe4XK"
      },
      "execution_count": null,
      "outputs": []
    },
    {
      "cell_type": "markdown",
      "source": [
        "10. How do you handle errors in Flask (e.g., 404)?\n",
        "\n",
        "Flask allows you to handle HTTP errors using the @app.errorhandler decorator.\n",
        "\n",
        "Example:"
      ],
      "metadata": {
        "id": "F_VaAGW4e_nQ"
      }
    },
    {
      "cell_type": "code",
      "source": [
        "@app.errorhandler(404)\n",
        "def page_not_found(error):\n",
        "    return \"Page not found, please check the URL.\", 404\n"
      ],
      "metadata": {
        "id": "JvXG84vNe_CC"
      },
      "execution_count": null,
      "outputs": []
    },
    {
      "cell_type": "markdown",
      "source": [
        "11. How do you structure a Flask app using Blueprints?\n",
        "\n",
        "Blueprints help organize your Flask app by grouping related routes and functionality. Here’s how to use them:\n",
        "\n",
        "Create a views.py file in a subfolder (e.g., auth/)."
      ],
      "metadata": {
        "id": "wVrqkx3PfD24"
      }
    },
    {
      "cell_type": "code",
      "source": [
        "# auth/views.py\n",
        "from flask import Blueprint\n",
        "\n",
        "auth = Blueprint('auth', __name__)\n",
        "\n",
        "@auth.route('/login')\n",
        "def login():\n",
        "    return \"Login Page\"\n"
      ],
      "metadata": {
        "id": "FTfVSZXdfG_-"
      },
      "execution_count": null,
      "outputs": []
    },
    {
      "cell_type": "code",
      "source": [
        "from flask import Flask\n",
        "from auth.views import auth\n",
        "\n",
        "app = Flask(__name__)\n",
        "app.register_blueprint(auth, url_prefix='/auth')\n",
        "\n",
        "if __name__ == '__main__':\n",
        "    app.run(debug=True)\n"
      ],
      "metadata": {
        "id": "NtliQRidfLX2"
      },
      "execution_count": null,
      "outputs": []
    },
    {
      "cell_type": "markdown",
      "source": [
        "12. How do you define a custom Jinja filter in Flask?\n",
        "\n",
        "You can create custom filters in Flask using app.template_filter.\n",
        "\n",
        "Example:"
      ],
      "metadata": {
        "id": "MkgCGr3cfOa3"
      }
    },
    {
      "cell_type": "code",
      "source": [
        "@app.template_filter('reverse')\n",
        "def reverse_filter(s):\n",
        "    return s[::-1]\n",
        "\n",
        "@app.route('/')\n",
        "def home():\n",
        "    return render_template('index.html', name=\"Flask\")\n"
      ],
      "metadata": {
        "id": "J_JJeWiAfPbl"
      },
      "execution_count": null,
      "outputs": []
    },
    {
      "cell_type": "code",
      "source": [
        "<p>{{ name | reverse }}</p>\n"
      ],
      "metadata": {
        "id": "t2xKR2bPfW5l"
      },
      "execution_count": null,
      "outputs": []
    },
    {
      "cell_type": "markdown",
      "source": [
        "13. How can you redirect with query parameters in Flask?\n",
        "\n",
        "You can redirect to a route with query parameters by passing them to url_for.\n",
        "\n",
        "Example:"
      ],
      "metadata": {
        "id": "j6iG3LGWfac1"
      }
    },
    {
      "cell_type": "code",
      "source": [
        "@app.route('/search')\n",
        "def search():\n",
        "    query = request.args.get('q')\n",
        "    return f\"Search results for: {query}\"\n",
        "\n",
        "@app.route('/redirect_search')\n",
        "def redirect_search():\n",
        "    return redirect(url_for('search', q='Flask tutorials'))\n"
      ],
      "metadata": {
        "id": "frn394TkfbY5"
      },
      "execution_count": null,
      "outputs": []
    },
    {
      "cell_type": "markdown",
      "source": [
        "14. How do you return JSON responses in Flask?\n",
        "\n",
        "You can return JSON responses using the jsonify() function in Flask.\n",
        "\n",
        "Example:"
      ],
      "metadata": {
        "id": "WyMxAZAZffgv"
      }
    },
    {
      "cell_type": "code",
      "source": [
        "from flask import jsonify\n",
        "\n",
        "@app.route('/api/data')\n",
        "def get_data():\n",
        "    data = {'name': 'John', 'age': 30}\n",
        "    return jsonify(data)\n"
      ],
      "metadata": {
        "id": "2Xg17d9UfiQ9"
      },
      "execution_count": null,
      "outputs": []
    },
    {
      "cell_type": "markdown",
      "source": [
        "15. How do you capture URL parameters in Flask?\n",
        "\n",
        "URL parameters are captured by including variables in the route definition.\n",
        "\n",
        "Example:"
      ],
      "metadata": {
        "id": "3U32ZDG7flN_"
      }
    },
    {
      "cell_type": "code",
      "source": [
        "@app.route('/user/<username>')\n",
        "def show_user(username):\n",
        "    return f\"User: {username}\"\n"
      ],
      "metadata": {
        "id": "d0O2dF87fnuE"
      },
      "execution_count": null,
      "outputs": []
    }
  ]
}